{
 "cells": [
  {
   "cell_type": "markdown",
   "id": "af19c5dd",
   "metadata": {},
   "source": [
    "# off shelf API "
   ]
  },
  {
   "cell_type": "code",
   "execution_count": 5,
   "id": "c14091db",
   "metadata": {},
   "outputs": [],
   "source": [
    "import pandas as pd\n",
    "\n",
    "#create input and output directories\n",
    "import os\n",
    "inputpath = 'input'\n",
    "outputpath = 'outputs'\n",
    "if os.path.exists(inputpath) is False:\n",
    "    os.mkdir(inputpath)\n",
    "if os.path.exists(outputpath) is False:\n",
    "    os.mkdir(outputpath)\n",
    "    \n",
    "#input file path\n",
    "sentiment140_file = 'input/training.1600000.processed.noemoticon.csv'\n",
    "   \n",
    "#read csv file\n",
    "colnames = ['polarity', 'id', 'post_datetime', 'query', 'user', 'tweet']\n",
    "df_tweets = pd.read_csv(sentiment140_file,\n",
    "                encoding='UTF', names=colnames, encoding_errors='ignore')\n",
    "\n",
    "# get 1600 tweets\n",
    "df = df_tweets[['polarity','tweet']].sample(n=1600, random_state=0)\n",
    "df.to_csv(\"outputs/selected_tweets1600.csv\", index=False)"
   ]
  },
  {
   "cell_type": "code",
   "execution_count": 6,
   "id": "fd9da16b",
   "metadata": {},
   "outputs": [
    {
     "data": {
      "text/plain": [
       "0    800000\n",
       "4    800000\n",
       "Name: polarity, dtype: int64"
      ]
     },
     "execution_count": 6,
     "metadata": {},
     "output_type": "execute_result"
    }
   ],
   "source": [
    "df_tweets.polarity.value_counts()"
   ]
  },
  {
   "cell_type": "code",
   "execution_count": 7,
   "id": "bf617962",
   "metadata": {},
   "outputs": [
    {
     "data": {
      "text/plain": [
       "0    811\n",
       "4    789\n",
       "Name: polarity, dtype: int64"
      ]
     },
     "execution_count": 7,
     "metadata": {},
     "output_type": "execute_result"
    }
   ],
   "source": [
    "df.polarity.value_counts()"
   ]
  },
  {
   "cell_type": "markdown",
   "id": "133f4a07",
   "metadata": {},
   "source": [
    "## Setting up"
   ]
  },
  {
   "cell_type": "code",
   "execution_count": 10,
   "id": "c28a255b",
   "metadata": {},
   "outputs": [],
   "source": [
    "from configparser import ConfigParser\n",
    "config = ConfigParser()\n",
    "config.read('input/keys_config.cfg')\n",
    "API_KEY = config.get('azure', 'api_key')\n",
    "ENDPOINT = config.get('azure', 'endpoint')\n",
    "\n",
    "def client():\n",
    "    try:\n",
    "        client = TextAnalyticsClient(\n",
    "            endpoint=ENDPOINT,\n",
    "            credential=AzureKeyCredential(API_KEY)\n",
    "        )\n",
    "        return client\n",
    "    except Exception as e:\n",
    "        print(e)\n",
    "        return\n",
    "\n",
    "client = client()"
   ]
  },
  {
   "cell_type": "code",
   "execution_count": 52,
   "id": "d5f1a555",
   "metadata": {},
   "outputs": [],
   "source": [
    "import os\n",
    "import numpy as np\n",
    "from azure.core.credentials import AzureKeyCredential\n",
    "from azure.ai.textanalytics import TextAnalyticsClient"
   ]
  },
  {
   "cell_type": "markdown",
   "id": "8777e0d5",
   "metadata": {},
   "source": [
    " ## Request functions"
   ]
  },
  {
   "cell_type": "code",
   "execution_count": 38,
   "id": "49d25b01",
   "metadata": {},
   "outputs": [],
   "source": [
    "def azure_sentiment(input_text,target_lang):\n",
    "    input_text = [input_text] if isinstance(input_text, str) else input_text\n",
    "    \n",
    "    if input_text != '':\n",
    "        response = client.analyze_sentiment(\n",
    "            documents=input_text,\n",
    "            language=target_lang,\n",
    "            show_opinion_mining=True,\n",
    "        )\n",
    "        successful_responses = [doc for doc in response if not doc.is_error]\n",
    "        result = successful_responses\n",
    "    \n",
    "    return result"
   ]
  },
  {
   "cell_type": "code",
   "execution_count": 48,
   "id": "4359f00e",
   "metadata": {},
   "outputs": [
    {
     "data": {
      "text/plain": [
       "array(['wants to compete! i want hard competition! i want to rally. i want to feel the power coming out of the engine! i want to compete ',\n",
       "       'It seems we are stuck on the ground in Amarillo. They have put a ground stop for all flights leaving for Denver. Said updates in an hour ',\n",
       "       'where the f are my pinking shears? rarararrrarararr...babyproofing while cutting stuff makes me stick shears random places &amp; forget them ',\n",
       "       ...,\n",
       "       'Laptop got a virus, kept crashing, had to restore factory settings.  I lost everything.',\n",
       "       '@oOoshecutee hey hey now!! ',\n",
       "       '@MagnusApollo maybe not as frustrating as your pyramid maze, hate '],\n",
       "      dtype=object)"
      ]
     },
     "execution_count": 48,
     "metadata": {},
     "output_type": "execute_result"
    }
   ],
   "source": [
    " df.tweet.values"
   ]
  },
  {
   "cell_type": "code",
   "execution_count": 42,
   "id": "4e7cbbcd",
   "metadata": {},
   "outputs": [],
   "source": [
    "def detailed_result(result):\n",
    "    for doc in result:\n",
    "        print(\"overall sentiment:\", doc.sentiment)\n",
    "        print(' positive_score', doc.confidence_scores.positive,\n",
    "                 ' neutral_score', doc.confidence_scores.neutral,\n",
    "                 ' negative_score', doc.confidence_scores.negative)\n",
    "        print(\"\\n***break down the analysis by each sentence***\")\n",
    "        sentences = doc.sentences\n",
    "        for ind, sentence in enumerate(sentences):\n",
    "            print(' sentence #', ind + 1, \":\", sentence.text)\n",
    "            print(' positive_score', sentence.confidence_scores.positive,\n",
    "                     ' neutral_score', sentence.confidence_scores.neutral,\n",
    "                     ' negative_score', sentence.confidence_scores.negative)\n",
    "            # opinion mining result\n",
    "            for mined_opinion in sentence.mined_opinions:\n",
    "                target = mined_opinion.target\n",
    "                print(\"--\", target.sentiment,  \"target text:\",  target.text)\n",
    "\n",
    "                for assessment in mined_opinion.assessments:\n",
    "                    print(assessment.sentiment, \"assessment text:\", assessment.text)\n",
    "        \n",
    "        print('-'*100)"
   ]
  },
  {
   "cell_type": "code",
   "execution_count": 43,
   "id": "39c9138d",
   "metadata": {},
   "outputs": [
    {
     "name": "stdout",
     "output_type": "stream",
     "text": [
      "overall sentiment: neutral\n",
      " positive_score 0.23  neutral_score 0.69  negative_score 0.08\n",
      "\n",
      "***break down the analysis by each sentence***\n",
      " sentence # 1 : tonight is the night\n",
      " positive_score 0.23  neutral_score 0.69  negative_score 0.08\n",
      "----------------------------------------------------------------------------------------------------\n",
      "overall sentiment: positive\n",
      " positive_score 0.99  neutral_score 0.01  negative_score 0.0\n",
      "\n",
      "***break down the analysis by each sentence***\n",
      " sentence # 1 : i love it\n",
      " positive_score 0.99  neutral_score 0.01  negative_score 0.0\n",
      "----------------------------------------------------------------------------------------------------\n"
     ]
    }
   ],
   "source": [
    "test = ['Tonight is the night.', 'I love it']\n",
    "azure_sentiment(test,'en')\n",
    "detailed_result(azure_sentiment(test,'en'))"
   ]
  },
  {
   "cell_type": "markdown",
   "id": "81a1a05b",
   "metadata": {},
   "source": [
    "## getting results for 1600 tweets"
   ]
  },
  {
   "cell_type": "code",
   "execution_count": 55,
   "id": "95958b8a",
   "metadata": {},
   "outputs": [
    {
     "data": {
      "text/html": [
       "<div>\n",
       "<style scoped>\n",
       "    .dataframe tbody tr th:only-of-type {\n",
       "        vertical-align: middle;\n",
       "    }\n",
       "\n",
       "    .dataframe tbody tr th {\n",
       "        vertical-align: top;\n",
       "    }\n",
       "\n",
       "    .dataframe thead th {\n",
       "        text-align: right;\n",
       "    }\n",
       "</style>\n",
       "<table border=\"1\" class=\"dataframe\">\n",
       "  <thead>\n",
       "    <tr style=\"text-align: right;\">\n",
       "      <th></th>\n",
       "      <th>overall sentiment</th>\n",
       "      <th>positive_score</th>\n",
       "      <th>neutral_score</th>\n",
       "      <th>negative_score</th>\n",
       "    </tr>\n",
       "  </thead>\n",
       "  <tbody>\n",
       "    <tr>\n",
       "      <th>0</th>\n",
       "      <td>negative</td>\n",
       "      <td>0.11</td>\n",
       "      <td>0.10</td>\n",
       "      <td>0.79</td>\n",
       "    </tr>\n",
       "    <tr>\n",
       "      <th>1</th>\n",
       "      <td>negative</td>\n",
       "      <td>0.01</td>\n",
       "      <td>0.30</td>\n",
       "      <td>0.69</td>\n",
       "    </tr>\n",
       "    <tr>\n",
       "      <th>2</th>\n",
       "      <td>negative</td>\n",
       "      <td>0.04</td>\n",
       "      <td>0.20</td>\n",
       "      <td>0.76</td>\n",
       "    </tr>\n",
       "    <tr>\n",
       "      <th>3</th>\n",
       "      <td>positive</td>\n",
       "      <td>0.48</td>\n",
       "      <td>0.31</td>\n",
       "      <td>0.21</td>\n",
       "    </tr>\n",
       "    <tr>\n",
       "      <th>4</th>\n",
       "      <td>neutral</td>\n",
       "      <td>0.24</td>\n",
       "      <td>0.70</td>\n",
       "      <td>0.06</td>\n",
       "    </tr>\n",
       "    <tr>\n",
       "      <th>...</th>\n",
       "      <td>...</td>\n",
       "      <td>...</td>\n",
       "      <td>...</td>\n",
       "      <td>...</td>\n",
       "    </tr>\n",
       "    <tr>\n",
       "      <th>1595</th>\n",
       "      <td>positive</td>\n",
       "      <td>0.90</td>\n",
       "      <td>0.03</td>\n",
       "      <td>0.07</td>\n",
       "    </tr>\n",
       "    <tr>\n",
       "      <th>1596</th>\n",
       "      <td>positive</td>\n",
       "      <td>0.98</td>\n",
       "      <td>0.01</td>\n",
       "      <td>0.00</td>\n",
       "    </tr>\n",
       "    <tr>\n",
       "      <th>1597</th>\n",
       "      <td>negative</td>\n",
       "      <td>0.00</td>\n",
       "      <td>0.02</td>\n",
       "      <td>0.97</td>\n",
       "    </tr>\n",
       "    <tr>\n",
       "      <th>1598</th>\n",
       "      <td>neutral</td>\n",
       "      <td>0.28</td>\n",
       "      <td>0.56</td>\n",
       "      <td>0.16</td>\n",
       "    </tr>\n",
       "    <tr>\n",
       "      <th>1599</th>\n",
       "      <td>negative</td>\n",
       "      <td>0.01</td>\n",
       "      <td>0.00</td>\n",
       "      <td>0.99</td>\n",
       "    </tr>\n",
       "  </tbody>\n",
       "</table>\n",
       "<p>1600 rows × 4 columns</p>\n",
       "</div>"
      ],
      "text/plain": [
       "     overall sentiment  positive_score  neutral_score  negative_score\n",
       "0             negative            0.11           0.10            0.79\n",
       "1             negative            0.01           0.30            0.69\n",
       "2             negative            0.04           0.20            0.76\n",
       "3             positive            0.48           0.31            0.21\n",
       "4              neutral            0.24           0.70            0.06\n",
       "...                ...             ...            ...             ...\n",
       "1595          positive            0.90           0.03            0.07\n",
       "1596          positive            0.98           0.01            0.00\n",
       "1597          negative            0.00           0.02            0.97\n",
       "1598           neutral            0.28           0.56            0.16\n",
       "1599          negative            0.01           0.00            0.99\n",
       "\n",
       "[1600 rows x 4 columns]"
      ]
     },
     "execution_count": 55,
     "metadata": {},
     "output_type": "execute_result"
    }
   ],
   "source": [
    "col_name = [\"overall sentiment\", \"positive_score\",\"neutral_score\",\"negative_score\"]\n",
    "df_result = pd.DataFrame(np.zeros(shape=(1600,4)), columns=col_name)\n",
    "for i, tweet in enumerate(df.tweet.values):\n",
    "    result = azure_sentiment(tweet,'en')\n",
    "    for doc in result:\n",
    "         df_result.iloc[i] = [doc.sentiment,\n",
    "                              doc.confidence_scores.positive,\n",
    "                              doc.confidence_scores.neutral,\n",
    "                              doc.confidence_scores.negative]\n",
    "df_result"
   ]
  },
  {
   "cell_type": "code",
   "execution_count": 56,
   "id": "bc164570",
   "metadata": {},
   "outputs": [
    {
     "data": {
      "text/plain": [
       "positive    563\n",
       "negative    553\n",
       "neutral     326\n",
       "mixed       158\n",
       "Name: overall sentiment, dtype: int64"
      ]
     },
     "execution_count": 56,
     "metadata": {},
     "output_type": "execute_result"
    }
   ],
   "source": [
    "df_result[\"overall sentiment\"].value_counts()"
   ]
  },
  {
   "cell_type": "code",
   "execution_count": null,
   "id": "ea47e692",
   "metadata": {},
   "outputs": [],
   "source": [
    "df_result.to_csv(\"outputs/azure_sentiment.csv\", index=False) "
   ]
  }
 ],
 "metadata": {
  "kernelspec": {
   "display_name": "Python 3 (ipykernel)",
   "language": "python",
   "name": "python3"
  },
  "language_info": {
   "codemirror_mode": {
    "name": "ipython",
    "version": 3
   },
   "file_extension": ".py",
   "mimetype": "text/x-python",
   "name": "python",
   "nbconvert_exporter": "python",
   "pygments_lexer": "ipython3",
   "version": "3.9.7"
  }
 },
 "nbformat": 4,
 "nbformat_minor": 5
}
