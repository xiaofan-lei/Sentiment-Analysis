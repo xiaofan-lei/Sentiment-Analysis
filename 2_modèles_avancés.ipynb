{
 "cells": [
  {
   "cell_type": "markdown",
   "metadata": {},
   "source": [
    "# Neural network models"
   ]
  },
  {
   "cell_type": "code",
   "execution_count": 7,
   "metadata": {},
   "outputs": [],
   "source": [
    "import os\n",
    "import pandas as pd\n",
    "import numpy as np\n",
    "import datetime\n",
    "import pickle\n",
    "\n",
    "# for reproducibility\n",
    "SEED=1337\n",
    "np.random.seed(SEED)\n",
    "os.environ['PYTHONHASHSEED']=str(SEED)\n",
    "\n",
    "import re\n",
    "import string\n",
    "from autocorrect import Speller\n",
    "spell = Speller(lang='en')\n",
    "\n",
    "punctuations = list(string.punctuation)\n",
    "from nltk.tokenize import word_tokenize\n",
    "from nltk.stem import WordNetLemmatizer\n",
    "lemm = WordNetLemmatizer()\n",
    "from nltk.stem import PorterStemmer\n",
    "ps = PorterStemmer()\n",
    "\n",
    "\n",
    "import matplotlib.pyplot as plt\n",
    "%matplotlib inline\n",
    "import seaborn as sns\n",
    "\n",
    "import warnings\n",
    "warnings.filterwarnings('ignore')"
   ]
  },
  {
   "cell_type": "code",
   "execution_count": 9,
   "metadata": {},
   "outputs": [
    {
     "name": "stdout",
     "output_type": "stream",
     "text": [
      "The tensorboard extension is already loaded. To reload it, use:\n",
      "  %reload_ext tensorboard\n"
     ]
    }
   ],
   "source": [
    "from sklearn.model_selection import train_test_split\n",
    "from sklearn.preprocessing import LabelEncoder\n",
    "\n",
    "from gensim.models import Word2Vec\n",
    "\n",
    "\n",
    "import tensorflow as tf\n",
    "# Hide GPU from visible devices\n",
    "tf.config.set_visible_devices([], 'GPU')\n",
    "\n",
    "%load_ext tensorboard\n",
    "\n",
    "import keras\n",
    "from keras.preprocessing.text import Tokenizer\n",
    "from keras.preprocessing.sequence import pad_sequences\n",
    "\n",
    "from keras.models import Sequential,Model\n",
    "from keras.layers import Dense,Flatten,Dropout,Conv1D,GlobalMaxPooling1D,Bidirectional,LSTM\n",
    "from keras.layers.embeddings import Embedding\n",
    "from keras.losses import SparseCategoricalCrossentropy\n",
    "from sklearn.metrics import jaccard_score\n",
    "\n",
    "from sklearn.metrics import confusion_matrix,accuracy_score,classification_report,plot_confusion_matrix"
   ]
  },
  {
   "cell_type": "code",
   "execution_count": 10,
   "metadata": {},
   "outputs": [],
   "source": [
    "from transformers import BertTokenizer, TFBertForSequenceClassification\n",
    "from transformers import InputExample, InputFeatures"
   ]
  },
  {
   "cell_type": "code",
   "execution_count": 11,
   "metadata": {},
   "outputs": [
    {
     "data": {
      "text/plain": [
       "0    811\n",
       "4    789\n",
       "Name: polarity, dtype: int64"
      ]
     },
     "execution_count": 11,
     "metadata": {},
     "output_type": "execute_result"
    }
   ],
   "source": [
    "inputWD = os. getcwd() +'\\\\input\\\\'\n",
    "path = os. getcwd() +'\\\\outputs\\\\'\n",
    "file = 'selected_tweets1600.csv'\n",
    "#load the source file\n",
    "df_tweet = pd.read_csv(path+file, sep=',', encoding='UTF')\n",
    "tweets = list(df_tweet.tweet)\n",
    "df_tweet.polarity.value_counts()"
   ]
  },
  {
   "cell_type": "markdown",
   "metadata": {},
   "source": [
    "1. Text Preprocessing"
   ]
  },
  {
   "cell_type": "code",
   "execution_count": 12,
   "metadata": {},
   "outputs": [],
   "source": [
    "#Fixing Word Lengthening\n",
    "def reduce_lengthening(text):\n",
    "    pattern = re.compile(r\"(.)\\1{2,}\")\n",
    "    return pattern.sub(r\"\\1\\1\", text)\n",
    "\n",
    "def text_preprocess(doc):\n",
    "    #Lowercasing all the letters\n",
    "    temp = doc.lower()\n",
    "    #Removing hashtags and mentions\n",
    "    temp = re.sub(\"@[A-Za-z0-9_]+\",\"\", temp)\n",
    "    temp = re.sub(\"#[A-Za-z0-9_]+\",\"\", temp)\n",
    "    #Removing links\n",
    "    temp = re.sub(r\"http\\S+\", \"\", temp)\n",
    "    temp = re.sub(r\"www.\\S+\", \"\", temp)\n",
    "    #removing numbers\n",
    "    temp = re.sub(\"[0-9]\",\"\", temp)\n",
    "    #Removing '\n",
    "    temp = re.sub(\"'\",\" \",temp)\n",
    "    \n",
    "    #Tokenization\n",
    "    temp = word_tokenize(temp)\n",
    "    #Removing punctuations\n",
    "    temp = [w for w in temp if not w in punctuations]\n",
    "    #Fixing Word Lengthening\n",
    "    temp = [reduce_lengthening(w) for w in temp]\n",
    "    #spell corrector\n",
    "    temp = [spell(w) for w in temp]\n",
    "    #temp = \" \".join(w for w in temp)\n",
    "    #Removing short words\n",
    "    temp = [w for w in temp if len(w)>1]    \n",
    "    return temp\n",
    "\n",
    "\n",
    "def lemma(doc):\n",
    "    #lemmatization\n",
    "    temp = [lemm.lemmatize(w) for w in doc]\n",
    "    return temp\n",
    "\n",
    "def stem(doc):\n",
    "    #Porter stemming\n",
    "    temp = [ps.stem(w) for w in doc]\n",
    "    return temp"
   ]
  },
  {
   "cell_type": "code",
   "execution_count": 13,
   "metadata": {},
   "outputs": [
    {
     "name": "stdout",
     "output_type": "stream",
     "text": [
      "CPU times: total: 34.2 s\n",
      "Wall time: 38.8 s\n"
     ]
    },
    {
     "data": {
      "text/html": [
       "<div>\n",
       "<style scoped>\n",
       "    .dataframe tbody tr th:only-of-type {\n",
       "        vertical-align: middle;\n",
       "    }\n",
       "\n",
       "    .dataframe tbody tr th {\n",
       "        vertical-align: top;\n",
       "    }\n",
       "\n",
       "    .dataframe thead th {\n",
       "        text-align: right;\n",
       "    }\n",
       "</style>\n",
       "<table border=\"1\" class=\"dataframe\">\n",
       "  <thead>\n",
       "    <tr style=\"text-align: right;\">\n",
       "      <th></th>\n",
       "      <th>polarity</th>\n",
       "      <th>tweet</th>\n",
       "      <th>cleaned</th>\n",
       "      <th>stem</th>\n",
       "      <th>lemm</th>\n",
       "      <th>sentiment_num</th>\n",
       "    </tr>\n",
       "  </thead>\n",
       "  <tbody>\n",
       "    <tr>\n",
       "      <th>0</th>\n",
       "      <td>0</td>\n",
       "      <td>wants to compete! i want hard competition! i w...</td>\n",
       "      <td>[wants, to, compete, want, hard, competition, ...</td>\n",
       "      <td>[want, to, compet, want, hard, competit, want,...</td>\n",
       "      <td>[want, to, compete, want, hard, competition, w...</td>\n",
       "      <td>0</td>\n",
       "    </tr>\n",
       "    <tr>\n",
       "      <th>1</th>\n",
       "      <td>0</td>\n",
       "      <td>It seems we are stuck on the ground in Amarill...</td>\n",
       "      <td>[it, seems, we, are, stuck, on, the, ground, i...</td>\n",
       "      <td>[it, seem, we, are, stuck, on, the, ground, in...</td>\n",
       "      <td>[it, seems, we, are, stuck, on, the, ground, i...</td>\n",
       "      <td>0</td>\n",
       "    </tr>\n",
       "    <tr>\n",
       "      <th>2</th>\n",
       "      <td>0</td>\n",
       "      <td>where the f are my pinking shears? rarararrrar...</td>\n",
       "      <td>[where, the, are, my, linking, hears, rarararr...</td>\n",
       "      <td>[where, the, are, my, link, hear, rarararrarar...</td>\n",
       "      <td>[where, the, are, my, linking, hears, rarararr...</td>\n",
       "      <td>0</td>\n",
       "    </tr>\n",
       "    <tr>\n",
       "      <th>3</th>\n",
       "      <td>0</td>\n",
       "      <td>0ff t0 tHE MEEtiN..  i HAtE WhEN PPl V0lUNtEER...</td>\n",
       "      <td>[ff, the, meeting, .., hate, when, ppl, volunt...</td>\n",
       "      <td>[ff, the, meet, .., hate, when, ppl, volunt, m...</td>\n",
       "      <td>[ff, the, meeting, .., hate, when, ppl, volunt...</td>\n",
       "      <td>0</td>\n",
       "    </tr>\n",
       "    <tr>\n",
       "      <th>4</th>\n",
       "      <td>4</td>\n",
       "      <td>@ reply me pls</td>\n",
       "      <td>[reply, me, pls]</td>\n",
       "      <td>[repli, me, pl]</td>\n",
       "      <td>[reply, me, pls]</td>\n",
       "      <td>1</td>\n",
       "    </tr>\n",
       "  </tbody>\n",
       "</table>\n",
       "</div>"
      ],
      "text/plain": [
       "   polarity                                              tweet  \\\n",
       "0         0  wants to compete! i want hard competition! i w...   \n",
       "1         0  It seems we are stuck on the ground in Amarill...   \n",
       "2         0  where the f are my pinking shears? rarararrrar...   \n",
       "3         0  0ff t0 tHE MEEtiN..  i HAtE WhEN PPl V0lUNtEER...   \n",
       "4         4                                    @ reply me pls    \n",
       "\n",
       "                                             cleaned  \\\n",
       "0  [wants, to, compete, want, hard, competition, ...   \n",
       "1  [it, seems, we, are, stuck, on, the, ground, i...   \n",
       "2  [where, the, are, my, linking, hears, rarararr...   \n",
       "3  [ff, the, meeting, .., hate, when, ppl, volunt...   \n",
       "4                                   [reply, me, pls]   \n",
       "\n",
       "                                                stem  \\\n",
       "0  [want, to, compet, want, hard, competit, want,...   \n",
       "1  [it, seem, we, are, stuck, on, the, ground, in...   \n",
       "2  [where, the, are, my, link, hear, rarararrarar...   \n",
       "3  [ff, the, meet, .., hate, when, ppl, volunt, m...   \n",
       "4                                    [repli, me, pl]   \n",
       "\n",
       "                                                lemm  sentiment_num  \n",
       "0  [want, to, compete, want, hard, competition, w...              0  \n",
       "1  [it, seems, we, are, stuck, on, the, ground, i...              0  \n",
       "2  [where, the, are, my, linking, hears, rarararr...              0  \n",
       "3  [ff, the, meeting, .., hate, when, ppl, volunt...              0  \n",
       "4                                   [reply, me, pls]              1  "
      ]
     },
     "execution_count": 13,
     "metadata": {},
     "output_type": "execute_result"
    }
   ],
   "source": [
    "%%time\n",
    "#text cleaning\n",
    "df_tweet['cleaned'] = [text_preprocess(d) for d in tweets]\n",
    "df_tweet['stem'] = [stem(d) for d in df_tweet['cleaned']]\n",
    "df_tweet['lemm'] = [lemma(d) for d in df_tweet['cleaned']]\n",
    "df_tweet['sentiment_num'] = df_tweet.polarity.replace({4:1})\n",
    "df_tweet.head()"
   ]
  },
  {
   "cell_type": "markdown",
   "metadata": {},
   "source": [
    "## 1. Keras models : Using stemm tokens + a keras embedding layer  + CNN"
   ]
  },
  {
   "cell_type": "markdown",
   "metadata": {},
   "source": [
    "1. creating training and test dataset"
   ]
  },
  {
   "cell_type": "code",
   "execution_count": 62,
   "metadata": {},
   "outputs": [
    {
     "name": "stdout",
     "output_type": "stream",
     "text": [
      "training size: 1120\n",
      "testing size: 480\n"
     ]
    }
   ],
   "source": [
    "#replacing textual categories by integers\n",
    "X = df_tweet['stem']\n",
    "y = df_tweet['sentiment_num']\n",
    "\n",
    "#split\n",
    "X_train, X_test, y_train, y_test = train_test_split(X, y, test_size=0.3, random_state=SEED)\n",
    "\n",
    "print(\"training size:\", len(X_train))\n",
    "print(\"testing size:\", len(X_test))"
   ]
  },
  {
   "cell_type": "markdown",
   "metadata": {},
   "source": [
    "1. Creating a vocabulary index and converting it to sequences"
   ]
  },
  {
   "cell_type": "code",
   "execution_count": 63,
   "metadata": {},
   "outputs": [
    {
     "name": "stdout",
     "output_type": "stream",
     "text": [
      "size of the dictionary: 2618\n",
      "sequences size: 38\n"
     ]
    }
   ],
   "source": [
    "#the maximum number of words to keep, based on word frequency\n",
    "tk = Tokenizer(num_words=None) \n",
    "tk.fit_on_texts(X_train)\n",
    "#1.1 get the size of the dictionary\n",
    "dico_size = len(tk.word_counts.items())\n",
    "print(\"size of the dictionary:\",dico_size)\n",
    "#2.1 calculate maxi length of tweets\n",
    "seq_set = tk.texts_to_sequences(X_train)\n",
    "max_len = np.max(np.array([len(d) for d in seq_set]))\n",
    "marg_len=5\n",
    "maxlen = max_len + marg_len\n",
    "#3. padding the sequences\n",
    "print(\"sequences size:\",maxlen)\n",
    "Xtrain = pad_sequences(seq_set,maxlen=maxlen,padding='post' )"
   ]
  },
  {
   "cell_type": "markdown",
   "metadata": {},
   "source": [
    "2. Creating the model"
   ]
  },
  {
   "cell_type": "code",
   "execution_count": 117,
   "metadata": {},
   "outputs": [
    {
     "name": "stdout",
     "output_type": "stream",
     "text": [
      "Model: \"sequential_2\"\n",
      "_________________________________________________________________\n",
      " Layer (type)                Output Shape              Param #   \n",
      "=================================================================\n",
      " embedding_2 (Embedding)     (None, 42, 300)           855300    \n",
      "                                                                 \n",
      " dropout_4 (Dropout)         (None, 42, 300)           0         \n",
      "                                                                 \n",
      " conv1d_4 (Conv1D)           (None, 38, 64)            96064     \n",
      "                                                                 \n",
      " conv1d_5 (Conv1D)           (None, 38, 32)            2080      \n",
      "                                                                 \n",
      " global_max_pooling1d_2 (Glo  (None, 32)               0         \n",
      " balMaxPooling1D)                                                \n",
      "                                                                 \n",
      " dense_2 (Dense)             (None, 8)                 264       \n",
      "                                                                 \n",
      " dropout_5 (Dropout)         (None, 8)                 0         \n",
      "                                                                 \n",
      " predictions (Dense)         (None, 1)                 9         \n",
      "                                                                 \n",
      "=================================================================\n",
      "Total params: 953,717\n",
      "Trainable params: 953,717\n",
      "Non-trainable params: 0\n",
      "_________________________________________________________________\n",
      "None\n"
     ]
    }
   ],
   "source": [
    "# Model constants.\n",
    "embedding_dim = 300\n",
    "\n",
    "stem_model = Sequential()\n",
    "#embedding\n",
    "stem_model.add(Embedding(input_dim=dico_size+1, output_dim=embedding_dim, input_length=maxlen))\n",
    "stem_model.add(Dropout(0.4))\n",
    "# Conv1D + global max pooling\n",
    "stem_model.add(Conv1D(64, 5, padding=\"valid\", activation=\"relu\", strides=1))\n",
    "stem_model.add(Conv1D(32, 1, padding=\"valid\", activation=\"relu\", strides=1))\n",
    "stem_model.add(GlobalMaxPooling1D())\n",
    "# We add a vanilla hidden layer:\n",
    "stem_model.add(Dense(8, activation='relu'))\n",
    "stem_model.add(Dropout(0.4))\n",
    "stem_model.add(Dense(units=1, activation='sigmoid',name='predictions'))\n",
    "\n",
    "\n",
    "#compiling the model\n",
    "#Intersection over Union (IoU) is used here to measure the accuracy of negative sentiments.\n",
    "metrics = ['accuracy',tf.keras.metrics.IoU(num_classes=2, target_class_ids=[0], name='iou_0')]\n",
    "stem_model.compile(optimizer=tf.keras.optimizers.Adam(learning_rate=3e-3, epsilon=1e-08, clipnorm=1.0), \n",
    "              loss=\"binary_crossentropy\",\n",
    "              metrics=metrics)\n",
    "\n",
    "print(stem_model.summary())"
   ]
  },
  {
   "cell_type": "markdown",
   "metadata": {},
   "source": [
    "3. training and evaluating the model"
   ]
  },
  {
   "cell_type": "code",
   "execution_count": 118,
   "metadata": {},
   "outputs": [],
   "source": [
    "def learning_plot(history):\n",
    "    acc = history.history['accuracy']\n",
    "    val_acc = history.history['val_accuracy']\n",
    "\n",
    "    iou = history.history['iou_0']\n",
    "    val_iou = history.history['val_iou_0']\n",
    "    \n",
    "    loss = history.history['loss']\n",
    "    val_loss = history.history['val_loss']\n",
    "\n",
    "    epochs_range = range(epochs)\n",
    "    plt.figure(figsize=(18, 4)) \n",
    "    \n",
    "    plt.subplot(1, 3, 1)\n",
    "    plt.plot(epochs_range, loss, label='Training Loss')\n",
    "    plt.plot(epochs_range, val_loss, label='Validation Loss')\n",
    "    plt.legend(loc='upper right')\n",
    "    plt.title('Training and Validation Loss')\n",
    "\n",
    "    plt.subplot(1, 3, 2)\n",
    "    plt.plot(epochs_range, acc, label='Training Accuracy')\n",
    "    plt.plot(epochs_range, val_acc, label='Validation Accuracy')\n",
    "    plt.legend(loc='lower right')\n",
    "    plt.title('Training and Validation Accuracy')\n",
    "\n",
    "    plt.subplot(1, 3, 3)\n",
    "    plt.plot(epochs_range, iou, label='Training IoU')\n",
    "    plt.plot(epochs_range, val_iou, label='Validation IoU')\n",
    "    plt.legend(loc='lower right')\n",
    "    plt.title('Training and Validation IoU for negative sentiments')\n",
    "    \n",
    "    plt.show()"
   ]
  },
  {
   "cell_type": "code",
   "execution_count": 119,
   "metadata": {},
   "outputs": [
    {
     "name": "stdout",
     "output_type": "stream",
     "text": [
      "CPU times: total: 22.9 s\n",
      "Wall time: 7.86 s\n"
     ]
    }
   ],
   "source": [
    "%%time\n",
    "epochs = 10\n",
    "stem_history = stem_model.fit(Xtrain, y_train, epochs=epochs, validation_split=0.2, verbose=0)"
   ]
  },
  {
   "cell_type": "code",
   "execution_count": 120,
   "metadata": {},
   "outputs": [
    {
     "data": {
      "image/png": "[encoded data removed]",
      "text/plain": [
       "<Figure size 1296x288 with 3 Axes>"
      ]
     },
     "metadata": {
      "needs_background": "light"
     },
     "output_type": "display_data"
    }
   ],
   "source": [
    "learning_plot(stem_history)"
   ]
  },
  {
   "cell_type": "code",
   "execution_count": 121,
   "metadata": {},
   "outputs": [
    {
     "name": "stdout",
     "output_type": "stream",
     "text": [
      "15/15 [==============================] - 0s 5ms/step - loss: 1.3601 - accuracy: 0.6687 - iou_0: 0.5292\n",
      "[1.3600753545761108, 0.668749988079071, 0.5291666388511658]\n"
     ]
    }
   ],
   "source": [
    "Qtest = tk.texts_to_sequences(X_test)\n",
    "Xtest = pad_sequences(Qtest,maxlen=maxlen,padding='post' )\n",
    "print(stem_model.evaluate(Xtest, y_test))"
   ]
  },
  {
   "cell_type": "markdown",
   "metadata": {},
   "source": [
    "## 2. Keras models : Using lemmatized tokents + pretrained fasttext embedding layer + bidirectional LSTM"
   ]
  },
  {
   "cell_type": "markdown",
   "metadata": {},
   "source": [
    "1. creating training and test dataset"
   ]
  },
  {
   "cell_type": "code",
   "execution_count": 68,
   "metadata": {},
   "outputs": [
    {
     "name": "stdout",
     "output_type": "stream",
     "text": [
      "training size: 1120\n",
      "testing size: 480\n"
     ]
    }
   ],
   "source": [
    "#replacing textual categories by integers\n",
    "X = [\" \".join(w) for w in df_tweet['lemm']]\n",
    "y = df_tweet['sentiment_num']\n",
    "\n",
    "#split\n",
    "X_train, X_test, y_train, y_test = train_test_split(X, y, test_size=0.3, random_state=SEED)\n",
    "\n",
    "print(\"training size:\", len(X_train))\n",
    "print(\"testing size:\", len(X_test))"
   ]
  },
  {
   "cell_type": "markdown",
   "metadata": {},
   "source": [
    "1. Vectorizng and padding the sequences"
   ]
  },
  {
   "cell_type": "code",
   "execution_count": 69,
   "metadata": {},
   "outputs": [
    {
     "name": "stdout",
     "output_type": "stream",
     "text": [
      "size of the dictionary: 2850\n",
      "1120 tweets have been added to the dictionary.\n",
      "the 10 most frequent words:\n",
      "[('the', 395), ('to', 381), ('my', 238), ('it', 236), ('you', 235), ('and', 220), ('is', 174), ('in', 167), ('for', 161), ('of', 124)]\n"
     ]
    }
   ],
   "source": [
    "#building a dictionary\n",
    "tk = Tokenizer(num_words=None) #the maximum number of words to keep, based on word frequency\n",
    "tk.fit_on_texts(X_train)\n",
    "#1.1 get the size of the dictionary\n",
    "dico_size = len(tk.word_counts.items())\n",
    "num_tokens = dico_size + 1\n",
    "print(\"size of the dictionary:\",dico_size)\n",
    "print(tk.document_count, 'tweets have been added to the dictionary.')\n",
    "#words frequency\n",
    "print(\"the 10 most frequent words:\")\n",
    "print(sorted(list(tk.word_counts.items()), key=lambda x: -x[1])[:10])"
   ]
  },
  {
   "cell_type": "code",
   "execution_count": 70,
   "metadata": {},
   "outputs": [
    {
     "name": "stdout",
     "output_type": "stream",
     "text": [
      "padding size: 42\n"
     ]
    }
   ],
   "source": [
    "#2. building a sequneces\n",
    "seq_X = tk.texts_to_sequences(X_train)\n",
    "#2.1 calculate maxi length of tweets\n",
    "max_len = np.max(np.array([len(d) for d in seq_X]))\n",
    "marg_len=10\n",
    "maxlen = max_len + marg_len\n",
    "#3. padding the sequences\n",
    "Xtrain = pad_sequences(seq_X,maxlen=maxlen,padding='post' )\n",
    "print(\"padding size:\",maxlen)"
   ]
  },
  {
   "cell_type": "markdown",
   "metadata": {},
   "source": [
    "2. loading glove and fasttext embedding vectors"
   ]
  },
  {
   "cell_type": "code",
   "execution_count": 71,
   "metadata": {},
   "outputs": [],
   "source": [
    "def load_embedding_model(file):\n",
    "\n",
    "    embedding_model = {}\n",
    "    with open(file,'r') as f:\n",
    "        for line in f:\n",
    "            split_line = line.split()\n",
    "            word = split_line[0]\n",
    "            embedding = np.array(split_line[1:], dtype=np.float64)\n",
    "            embedding_model[word] = embedding\n",
    "\n",
    "    return embedding_model"
   ]
  },
  {
   "cell_type": "code",
   "execution_count": 72,
   "metadata": {},
   "outputs": [
    {
     "name": "stdout",
     "output_type": "stream",
     "text": [
      "found 999995 word vectors in loaded fasttext model.\n",
      "CPU times: total: 1min 25s\n",
      "Wall time: 1min 36s\n"
     ]
    }
   ],
   "source": [
    "%%time\n",
    "if 'embedding_index_fasttext' not in locals():\n",
    "    #load index if not loaded before\n",
    "    embedding_index_fasttext = load_embedding_model(inputWD+'wiki-news-300d-1M.vec')\n",
    "    \n",
    "print('found %s word vectors in loaded fasttext model.' % len(embedding_index_fasttext))"
   ]
  },
  {
   "cell_type": "markdown",
   "metadata": {},
   "source": [
    "3. Preparing a corresponding embedding matrix"
   ]
  },
  {
   "cell_type": "code",
   "execution_count": 75,
   "metadata": {},
   "outputs": [],
   "source": [
    "def embedding_matrix(num_tokens,embedding_dim,embedding_index):\n",
    "    hits=0\n",
    "    misses=[]\n",
    "\n",
    "    # Prepare embedding matrix\n",
    "    embedding_matrix = np.zeros((num_tokens, embedding_dim))\n",
    "\n",
    "    for word, i in tk.word_index.items():\n",
    "        embedding_vector = embedding_index.get(word)\n",
    "        if embedding_vector is not None:\n",
    "            # Words not found in embedding index will be all-zeros.\n",
    "            # This includes the representation for \"padding\" and \"OOV\"\n",
    "            embedding_matrix[i] = embedding_vector\n",
    "            hits += 1\n",
    "        else:\n",
    "            misses.append(word)\n",
    "    print(\"Converted %d words (%d misses)\" % (hits, len(misses)))\n",
    "    #print(\"words not included in pretrained model:\",misses)\n",
    "    \n",
    "    return embedding_matrix"
   ]
  },
  {
   "cell_type": "code",
   "execution_count": 76,
   "metadata": {},
   "outputs": [
    {
     "name": "stdout",
     "output_type": "stream",
     "text": [
      "from fastText model\n",
      "Converted 2769 words (81 misses)\n"
     ]
    }
   ],
   "source": [
    "embedding_dim_fasttext=300\n",
    "print(\"from fastText model\")\n",
    "embedding_matrix_fasttext = embedding_matrix(num_tokens,embedding_dim_fasttext,embedding_index_fasttext)"
   ]
  },
  {
   "cell_type": "markdown",
   "metadata": {},
   "source": [
    "4. Building the model with the embedding layer non trainable"
   ]
  },
  {
   "cell_type": "code",
   "execution_count": 167,
   "metadata": {},
   "outputs": [],
   "source": [
    "embedding_layer_fasttext = Embedding(\n",
    "    input_dim=num_tokens,\n",
    "    output_dim=embedding_dim_fasttext,\n",
    "    input_length=maxlen,\n",
    "    embeddings_initializer=keras.initializers.Constant(embedding_matrix_fasttext),\n",
    "    trainable=False,\n",
    ")"
   ]
  },
  {
   "cell_type": "code",
   "execution_count": 168,
   "metadata": {},
   "outputs": [
    {
     "name": "stdout",
     "output_type": "stream",
     "text": [
      "Model: \"sequential\"\n",
      "_________________________________________________________________\n",
      " Layer (type)                Output Shape              Param #   \n",
      "=================================================================\n",
      " embedding (Embedding)       (None, 42, 300)           855300    \n",
      "                                                                 \n",
      " dropout (Dropout)           (None, 42, 300)           0         \n",
      "                                                                 \n",
      " bidirectional (Bidirectiona  (None, 32)               40576     \n",
      " l)                                                              \n",
      "                                                                 \n",
      " dense (Dense)               (None, 16)                528       \n",
      "                                                                 \n",
      " dense_1 (Dense)             (None, 8)                 136       \n",
      "                                                                 \n",
      " dropout_1 (Dropout)         (None, 8)                 0         \n",
      "                                                                 \n",
      " predictions (Dense)         (None, 1)                 9         \n",
      "                                                                 \n",
      "=================================================================\n",
      "Total params: 896,549\n",
      "Trainable params: 41,249\n",
      "Non-trainable params: 855,300\n",
      "_________________________________________________________________\n",
      "None\n"
     ]
    }
   ],
   "source": [
    "fasttext_model = Sequential()\n",
    "#enbedding\n",
    "fasttext_model.add(embedding_layer_fasttext)\n",
    "fasttext_model.add(Dropout(0.3))\n",
    "#LSTM\n",
    "fasttext_model.add(Bidirectional(LSTM(16,dropout=0.4,recurrent_dropout=0.4)))\n",
    "# We add a vanilla hidden layer:\n",
    "fasttext_model.add(Dense(16, activation='relu'))\n",
    "fasttext_model.add(Dense(8, activation='relu'))\n",
    "fasttext_model.add(Dropout(0.4))\n",
    "fasttext_model.add(Dense(units=1, activation='sigmoid',name='predictions'))\n",
    "\n",
    "\n",
    "#compiling the model\n",
    "fasttext_model.compile(optimizer=tf.keras.optimizers.Adam(learning_rate=3e-3, epsilon=1e-08, clipnorm=1.0), \n",
    "              loss=\"binary_crossentropy\",\n",
    "              metrics=metrics)\n",
    "\n",
    "print(fasttext_model.summary())"
   ]
  },
  {
   "cell_type": "markdown",
   "metadata": {},
   "source": [
    "5. Trainning and evoluating the model"
   ]
  },
  {
   "cell_type": "code",
   "execution_count": 169,
   "metadata": {},
   "outputs": [
    {
     "name": "stdout",
     "output_type": "stream",
     "text": [
      "CPU times: total: 3min 7s\n",
      "Wall time: 1min 37s\n"
     ]
    }
   ],
   "source": [
    "%%time\n",
    "epochs=12\n",
    "tf.keras.backend.clear_session()\n",
    "fast_history = fasttext_model.fit(Xtrain, y_train, batch_size=19,epochs=epochs, validation_split=0.2, verbose=0)"
   ]
  },
  {
   "cell_type": "code",
   "execution_count": 170,
   "metadata": {},
   "outputs": [
    {
     "data": {
      "image/png": "[encoded data removed]",
      "text/plain": [
       "<Figure size 1296x288 with 3 Axes>"
      ]
     },
     "metadata": {
      "needs_background": "light"
     },
     "output_type": "display_data"
    }
   ],
   "source": [
    "learning_plot(fast_history)"
   ]
  },
  {
   "cell_type": "code",
   "execution_count": 171,
   "metadata": {
    "scrolled": true
   },
   "outputs": [
    {
     "name": "stdout",
     "output_type": "stream",
     "text": [
      "Test evaluation with fasttext 300d model:\n",
      "15/15 [==============================] - 2s 77ms/step - loss: 0.5506 - accuracy: 0.7333 - iou_0: 0.5292\n",
      "[0.5505682229995728, 0.7333333492279053, 0.5291666388511658]\n"
     ]
    }
   ],
   "source": [
    "Qtest = tk.texts_to_sequences(X_test)\n",
    "Ptest = pad_sequences(Qtest,maxlen=maxlen,padding='post' )\n",
    "print(\"Test evaluation with fasttext 300d model:\")\n",
    "print(fasttext_model.evaluate(Ptest, y_test))"
   ]
  },
  {
   "cell_type": "markdown",
   "metadata": {},
   "source": [
    "## Using a transfermer architecture model: BERT"
   ]
  },
  {
   "cell_type": "markdown",
   "metadata": {},
   "source": [
    "1. load the model"
   ]
  },
  {
   "cell_type": "code",
   "execution_count": 93,
   "metadata": {},
   "outputs": [],
   "source": [
    "if 'bert_model' not in locals():\n",
    "    bert_model = TFBertForSequenceClassification.from_pretrained(\"bert-base-uncased\",num_labels=2)\n",
    "    \n",
    "if 'bert_tokenizer' not in locals():\n",
    "    bert_tokenizer = BertTokenizer.from_pretrained(\"bert-base-uncased\")"
   ]
  },
  {
   "cell_type": "markdown",
   "metadata": {},
   "source": [
    "2. Split the data"
   ]
  },
  {
   "cell_type": "code",
   "execution_count": 94,
   "metadata": {},
   "outputs": [
    {
     "name": "stdout",
     "output_type": "stream",
     "text": [
      "training size: 1024\n",
      "validation size: 256\n",
      "testing size: 320\n"
     ]
    }
   ],
   "source": [
    "#replacing textual categories by integers\n",
    "TEXT_COL ='tweet'\n",
    "LABEL_COL='sentiment_num'\n",
    "#df_bert = pd.DataFrame(data=pd.concat([pd.Series(X),pd.Series(y)],axis=1, ignore_index=True))\n",
    "df_bert=df_tweet[[TEXT_COL, LABEL_COL]]\n",
    "#split\n",
    "train_df, test_df = train_test_split(df_bert, test_size=0.2, random_state=SEED)\n",
    "train_df, val_df = train_test_split(train_df, test_size=0.2, random_state=SEED)\n",
    "\n",
    "print(\"training size:\", len(train_df))\n",
    "print(\"validation size:\", len(val_df))\n",
    "print(\"testing size:\", len(test_df))\n"
   ]
  },
  {
   "cell_type": "markdown",
   "metadata": {},
   "source": [
    "3. dataset preperation"
   ]
  },
  {
   "cell_type": "code",
   "execution_count": 95,
   "metadata": {},
   "outputs": [],
   "source": [
    "#convert data to InputExampls\n",
    "def convert_data_to_examples(train): \n",
    "    data_InputExamples = train.apply(lambda x: InputExample(guid=None, # Globally unique ID for bookkeeping, unused in this case\n",
    "                                                          text_a = x[TEXT_COL], \n",
    "                                                          text_b = None,\n",
    "                                                          label = x[LABEL_COL]), axis = 1)\n",
    "  \n",
    "    return data_InputExamples"
   ]
  },
  {
   "cell_type": "code",
   "execution_count": 96,
   "metadata": {},
   "outputs": [],
   "source": [
    "def convert_examples_to_tf_dataset(examples, max_length=64):\n",
    "    features = [] # -> will hold InputFeatures to be converted later\n",
    "\n",
    "    for e in examples:\n",
    "        # Documentation is really strong for this method, so please take a look at it\n",
    "        input_dict = bert_tokenizer.encode_plus(\n",
    "            e.text_a,\n",
    "            add_special_tokens=True,\n",
    "            max_length=max_length, # truncates if len(s) > max_length\n",
    "            return_token_type_ids=True,\n",
    "            return_attention_mask=True,\n",
    "            padding='max_length',\n",
    "            truncation=True\n",
    "        )\n",
    "\n",
    "        input_ids, token_type_ids, attention_mask = (input_dict[\"input_ids\"],\n",
    "            input_dict[\"token_type_ids\"], input_dict['attention_mask'])\n",
    "\n",
    "        features.append(\n",
    "            InputFeatures(\n",
    "                input_ids=input_ids, attention_mask=attention_mask, token_type_ids=token_type_ids, label=e.label\n",
    "            )\n",
    "        )\n",
    "    def gen():\n",
    "        for f in features:\n",
    "            yield (\n",
    "                {\n",
    "                    \"input_ids\": f.input_ids,\n",
    "                    \"attention_mask\": f.attention_mask,\n",
    "                    \"token_type_ids\": f.token_type_ids,\n",
    "                },\n",
    "                f.label,\n",
    "            )\n",
    "\n",
    "    return tf.data.Dataset.from_generator(\n",
    "        gen,\n",
    "        ({\"input_ids\": tf.int32, \"attention_mask\": tf.int32, \"token_type_ids\": tf.int32}, tf.int64),\n",
    "        (\n",
    "            {\n",
    "                \"input_ids\": tf.TensorShape([None]),\n",
    "                \"attention_mask\": tf.TensorShape([None]),\n",
    "                \"token_type_ids\": tf.TensorShape([None]),\n",
    "            },\n",
    "            tf.TensorShape([]),\n",
    "        ),\n",
    "    )\n",
    "        "
   ]
  },
  {
   "cell_type": "code",
   "execution_count": 97,
   "metadata": {},
   "outputs": [],
   "source": [
    "train_InputExamples = convert_data_to_examples(train_df)\n",
    "train_data = convert_examples_to_tf_dataset(list(train_InputExamples))\n",
    "train_data = train_data.shuffle(100).batch(32)#.repeat(2)\n",
    "\n",
    "validation_InputExamples = convert_data_to_examples(val_df)\n",
    "validation_data = convert_examples_to_tf_dataset(list(validation_InputExamples))\n",
    "validation_data = validation_data.batch(32)\n",
    "\n",
    "test_InputExamples = convert_data_to_examples(test_df)\n",
    "test_data = convert_examples_to_tf_dataset(list(test_InputExamples))\n",
    "test_data = test_data.batch(32)"
   ]
  },
  {
   "cell_type": "markdown",
   "metadata": {},
   "source": [
    "4. Configuring the BERT model"
   ]
  },
  {
   "cell_type": "code",
   "execution_count": 162,
   "metadata": {},
   "outputs": [
    {
     "name": "stdout",
     "output_type": "stream",
     "text": [
      "Model: \"tf_bert_for_sequence_classification\"\n",
      "_________________________________________________________________\n",
      " Layer (type)                Output Shape              Param #   \n",
      "=================================================================\n",
      " bert (TFBertMainLayer)      multiple                  109482240 \n",
      "                                                                 \n",
      " dropout_37 (Dropout)        multiple                  0         \n",
      "                                                                 \n",
      " classifier (Dense)          multiple                  1538      \n",
      "                                                                 \n",
      "=================================================================\n",
      "Total params: 109,483,778\n",
      "Trainable params: 109,483,778\n",
      "Non-trainable params: 0\n",
      "_________________________________________________________________\n",
      "None\n"
     ]
    }
   ],
   "source": [
    "#compiling the model\n",
    "bert_model.compile(optimizer=tf.keras.optimizers.Adam(learning_rate=3e-5, epsilon=1e-08, clipnorm=1.0), \n",
    "                  loss=tf.keras.losses.SparseCategoricalCrossentropy(from_logits=True), \n",
    "                  metrics=[tf.keras.metrics.SparseCategoricalAccuracy('accuracy')])\n",
    "\n",
    "print(bert_model.summary())"
   ]
  },
  {
   "cell_type": "markdown",
   "metadata": {},
   "source": [
    "5. Train the entire model end-to-end"
   ]
  },
  {
   "cell_type": "code",
   "execution_count": 163,
   "metadata": {},
   "outputs": [
    {
     "name": "stdout",
     "output_type": "stream",
     "text": [
      "Epoch 1/3\n",
      "32/32 [==============================] - 435s 13s/step - loss: 0.3419 - accuracy: 0.8760 - val_loss: 0.4948 - val_accuracy: 0.7812\n",
      "Epoch 2/3\n",
      "32/32 [==============================] - 421s 13s/step - loss: 0.2032 - accuracy: 0.9395 - val_loss: 0.6548 - val_accuracy: 0.7656\n",
      "Epoch 3/3\n",
      "32/32 [==============================] - 422s 13s/step - loss: 0.1199 - accuracy: 0.9658 - val_loss: 0.6346 - val_accuracy: 0.7852\n",
      "CPU times: total: 58min 21s\n",
      "Wall time: 21min 18s\n"
     ]
    }
   ],
   "source": [
    "%%time\n",
    "epochs=3\n",
    "bert_history = bert_model.fit(train_data, \n",
    "                              epochs=epochs, \n",
    "                              use_multiprocessing=True,     \n",
    "                              workers=-1, \n",
    "                              validation_data=validation_data)"
   ]
  },
  {
   "cell_type": "code",
   "execution_count": 164,
   "metadata": {},
   "outputs": [
    {
     "name": "stdout",
     "output_type": "stream",
     "text": [
      "Test evaluation with BERT model:\n",
      "10/10 [==============================] - 39s 4s/step - loss: 0.6816 - accuracy: 0.7781\n",
      "[0.6815986037254333, 0.778124988079071]\n",
      "CPU times: total: 1min 34s\n",
      "Wall time: 38.7 s\n"
     ]
    }
   ],
   "source": [
    "%%time\n",
    "print(\"Test evaluation with BERT model:\")\n",
    "print(bert_model.evaluate(test_data))"
   ]
  },
  {
   "cell_type": "code",
   "execution_count": 165,
   "metadata": {},
   "outputs": [
    {
     "name": "stdout",
     "output_type": "stream",
     "text": [
      "accuracy: 77.81%\n"
     ]
    }
   ],
   "source": [
    "#calcul accuracy\n",
    "y_true = test_df[LABEL_COL].values\n",
    "#\n",
    "tf_outputs = bert_model.predict(test_data)\n",
    "y_pred = tf.nn.softmax(tf_outputs[0], axis=-1)\n",
    "y_pred = np.argmax(y_pred, axis=1)\n",
    "acc = np.average(y_true == y_pred)\n",
    "\n",
    "print(\"accuracy: {:5.2f}%\".format(100 * acc))"
   ]
  },
  {
   "cell_type": "code",
   "execution_count": 166,
   "metadata": {},
   "outputs": [
    {
     "name": "stdout",
     "output_type": "stream",
     "text": [
      "iou_0 : 66.82%\n"
     ]
    }
   ],
   "source": [
    "\n",
    "iou = jaccard_score(y_true, y_pred, pos_label=0, average='binary')\n",
    "print(\"iou_0 : {:5.2f}%\".format(100 * iou))"
   ]
  },
  {
   "cell_type": "code",
   "execution_count": null,
   "metadata": {},
   "outputs": [],
   "source": []
  }
 ],
 "metadata": {
  "interpreter": {
   "hash": "6f7c4d44365b28014734406e4d617c1e1f76ea196def854c7b951a230f6e24f1"
  },
  "kernelspec": {
   "display_name": "Python 3 (ipykernel)",
   "language": "python",
   "name": "python3"
  },
  "language_info": {
   "codemirror_mode": {
    "name": "ipython",
    "version": 3
   },
   "file_extension": ".py",
   "mimetype": "text/x-python",
   "name": "python",
   "nbconvert_exporter": "python",
   "pygments_lexer": "ipython3",
   "version": "3.9.7"
  }
 },
 "nbformat": 4,
 "nbformat_minor": 2
}
