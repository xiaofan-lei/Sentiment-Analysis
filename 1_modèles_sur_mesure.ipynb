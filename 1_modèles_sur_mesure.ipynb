{
 "cells": [
  {
   "cell_type": "markdown",
   "metadata": {},
   "source": [
    "# A simple tailoring model from scratch"
   ]
  },
  {
   "cell_type": "code",
   "execution_count": 1,
   "metadata": {},
   "outputs": [],
   "source": [
    "import os\n",
    "import pandas as pd\n",
    "import numpy as np\n",
    "\n",
    "import re\n",
    "import string\n",
    "from autocorrect import Speller\n",
    "spell = Speller(lang='en')\n",
    "\n",
    "punctuations = list(string.punctuation)\n",
    "from nltk.tokenize import word_tokenize\n",
    "from nltk.stem import WordNetLemmatizer\n",
    "lemm = WordNetLemmatizer()\n",
    "from nltk.stem import PorterStemmer\n",
    "ps = PorterStemmer()\n",
    "\n",
    "import matplotlib.pyplot as plt\n",
    "%matplotlib inline\n",
    "import seaborn as sns\n",
    "\n",
    "\n",
    "# Suppress warnings \n",
    "import warnings\n",
    "warnings.filterwarnings('ignore')"
   ]
  },
  {
   "cell_type": "code",
   "execution_count": 2,
   "metadata": {},
   "outputs": [],
   "source": [
    "from sklearn.model_selection import train_test_split,cross_validate\n",
    "from sklearn.feature_extraction.text import TfidfTransformer, CountVectorizer\n",
    "from sklearn.pipeline import make_pipeline\n",
    "\n",
    "\n",
    "#gradient boost\n",
    "from catboost import CatBoostClassifier\n",
    "\n",
    "#naive bayes classification\n",
    "from nltk import FreqDist\n",
    "from nltk.classify import NaiveBayesClassifier,accuracy\n",
    "import nltk.classify.util as util\n",
    "from nltk.sentiment import SentimentAnalyzer\n",
    "from nltk.collocations import BigramCollocationFinder as BCF\n",
    "from nltk.metrics import BigramAssocMeasures\n",
    "import itertools\n",
    "\n",
    "from sklearn.metrics import confusion_matrix,accuracy_score,classification_report,plot_confusion_matrix"
   ]
  },
  {
   "cell_type": "markdown",
   "metadata": {},
   "source": [
    "## Importing the Dataset"
   ]
  },
  {
   "cell_type": "code",
   "execution_count": 3,
   "metadata": {},
   "outputs": [],
   "source": [
    "inputWD = os. getcwd() +'\\\\input\\\\'\n",
    "path = os. getcwd() +'\\\\outputs\\\\'\n",
    "file = 'selected_tweets1600.csv'\n",
    "result_file = 'azure_sentiment.csv'\n",
    "#load the source file\n",
    "df_tweet = pd.read_csv(path+file, sep=',')\n",
    "df_sentiment = pd.read_csv(path+result_file, sep=',', index_col=0)\n",
    "tweets = list(df_tweet.tweet)"
   ]
  },
  {
   "cell_type": "code",
   "execution_count": 4,
   "metadata": {},
   "outputs": [
    {
     "data": {
      "text/plain": [
       "0    811\n",
       "4    789\n",
       "Name: polarity, dtype: int64"
      ]
     },
     "execution_count": 4,
     "metadata": {},
     "output_type": "execute_result"
    }
   ],
   "source": [
    "df_tweet.polarity.value_counts()"
   ]
  },
  {
   "cell_type": "code",
   "execution_count": 5,
   "metadata": {},
   "outputs": [
    {
     "data": {
      "text/plain": [
       "positive    621\n",
       "negative    450\n",
       "neutral     408\n",
       "mixed       121\n",
       "Name: sentiment, dtype: int64"
      ]
     },
     "execution_count": 5,
     "metadata": {},
     "output_type": "execute_result"
    }
   ],
   "source": [
    "df_sentiment.sentiment.value_counts()"
   ]
  },
  {
   "cell_type": "markdown",
   "metadata": {},
   "source": [
    "## Text Preprocessing"
   ]
  },
  {
   "cell_type": "markdown",
   "metadata": {},
   "source": [
    "1. text cleaning"
   ]
  },
  {
   "cell_type": "code",
   "execution_count": 6,
   "metadata": {},
   "outputs": [],
   "source": [
    "#Fixing Word Lengthening\n",
    "def reduce_lengthening(text):\n",
    "    pattern = re.compile(r\"(.)\\1{2,}\")\n",
    "    return pattern.sub(r\"\\1\\1\", text)\n",
    "\n",
    "def text_preprocess(doc):\n",
    "    #Lowercasing all the letters\n",
    "    temp = doc.lower()\n",
    "    #Removing hashtags and mentions\n",
    "    temp = re.sub(\"@[A-Za-z0-9_]+\",\"\", temp)\n",
    "    temp = re.sub(\"#[A-Za-z0-9_]+\",\"\", temp)\n",
    "    #Removing links\n",
    "    temp = re.sub(r\"http\\S+\", \"\", temp)\n",
    "    temp = re.sub(r\"www.\\S+\", \"\", temp)\n",
    "    #removing numbers\n",
    "    temp = re.sub(\"[0-9]\",\"\", temp)\n",
    "    #Removing '\n",
    "    temp = re.sub(\"'\",\" \",temp)\n",
    "\n",
    "    #Tokenization\n",
    "    temp = word_tokenize(temp)\n",
    "    #Removing punctuations\n",
    "    temp = [w for w in temp if not w in punctuations]\n",
    "    #Fixing Word Lengthening\n",
    "    temp = [reduce_lengthening(w) for w in temp]\n",
    "    #spell corrector\n",
    "    temp = [spell(w) for w in temp]\n",
    "    #stem\n",
    "    temp = [ps.stem(w) for w in temp]\n",
    "    #Removing short words\n",
    "    temp = [w for w in temp if len(w)>1]\n",
    "    temp = \" \".join(w for w in temp)\n",
    "    \n",
    "    return temp\n"
   ]
  },
  {
   "cell_type": "code",
   "execution_count": 7,
   "metadata": {},
   "outputs": [
    {
     "name": "stdout",
     "output_type": "stream",
     "text": [
      "['want to compet want hard competit want to ralli want to feel the power come out of the engin want to compet', 'it seem we are stuck on the ground in armadillo they have put ground stop for all flight leav for denver said updat in an hour', 'where the are my link hear rarararrarararr .. babyproof while cut stuff make me stick hear random place amp forget them']\n",
      "CPU times: total: 42.2 s\n",
      "Wall time: 59.1 s\n"
     ]
    }
   ],
   "source": [
    "%%time\n",
    "#text cleaning\n",
    "cleaned_tweets = [text_preprocess(d) for d in tweets] \n",
    "print(cleaned_tweets[:3])"
   ]
  },
  {
   "cell_type": "code",
   "execution_count": 8,
   "metadata": {},
   "outputs": [
    {
     "name": "stdout",
     "output_type": "stream",
     "text": [
      "The tweet #1240 \"@russians_in_uk ?? ?? ??: ?????????? ??????? ??????, ??? ????????????! \" is empty after the cleaning operation, and replaced by the word \"empty\".\n",
      "The tweet #1426 \"@vexedinthecity  http://bit.ly/wdqfO\" is empty after the cleaning operation, and replaced by the word \"empty\".\n"
     ]
    }
   ],
   "source": [
    "#check if empty elements in the list\n",
    "for i in range(len(cleaned_tweets)):\n",
    "    if cleaned_tweets[i] =='':\n",
    "        print('The tweet #%s \"%s\" is empty after the cleaning operation, and replaced by the word \"empty\".' % (str(i), tweets[i]))\n",
    "        cleaned_tweets[i]=\"empty\""
   ]
  },
  {
   "cell_type": "markdown",
   "metadata": {},
   "source": [
    "## Splitting the data"
   ]
  },
  {
   "cell_type": "code",
   "execution_count": 9,
   "metadata": {},
   "outputs": [
    {
     "name": "stdout",
     "output_type": "stream",
     "text": [
      "training size: 1120\n",
      "testing size: 480\n"
     ]
    }
   ],
   "source": [
    "#replacing textual categories by integers\n",
    "X = cleaned_tweets\n",
    "\"\"\"\n",
    "di = {\"positive\": 3, \"neutral\": 2, \"mixed\": 1, \"negative\":0 }\n",
    "class_name = ['negative', 'mixed','neutral','positive']\n",
    "y = df_sentiment['sentiment'].replace(di)\n",
    "\n",
    "\"\"\"\n",
    "class_names = ['negative', 'positive']\n",
    "y = df_tweet.polarity.values\n",
    "\n",
    "#split\n",
    "X_train, X_test, y_train, y_test = train_test_split(X, y, test_size=0.3, random_state=0)\n",
    "\n",
    "print(\"training size:\", len(X_train))\n",
    "print(\"testing size:\", len(X_test))"
   ]
  },
  {
   "cell_type": "markdown",
   "metadata": {},
   "source": [
    "## Building a gradient boosting model\n"
   ]
  },
  {
   "cell_type": "markdown",
   "metadata": {},
   "source": [
    "1. Vertorizing"
   ]
  },
  {
   "cell_type": "code",
   "execution_count": 10,
   "metadata": {},
   "outputs": [
    {
     "name": "stdout",
     "output_type": "stream",
     "text": [
      "training dataset size: (1120, 2485)\n",
      "test dataset size: (480, 2485)\n"
     ]
    }
   ],
   "source": [
    "pipe = make_pipeline(CountVectorizer(), TfidfTransformer())\n",
    "pipe.fit(X_train)\n",
    "\n",
    "Xtrain = pipe.transform(X_train)\n",
    "Xtest = pipe.transform(X_test)\n",
    "print(\"training dataset size:\", Xtrain.shape)\n",
    "print(\"test dataset size:\", Xtest.shape)"
   ]
  },
  {
   "cell_type": "markdown",
   "metadata": {},
   "source": [
    "2. Building a catboost model"
   ]
  },
  {
   "cell_type": "code",
   "execution_count": 11,
   "metadata": {},
   "outputs": [
    {
     "name": "stdout",
     "output_type": "stream",
     "text": [
      "Mean accuracy: 0.627\n"
     ]
    },
    {
     "data": {
      "application/vnd.jupyter.widget-view+json": {
       "model_id": "b88afcfeb69e405f84754a9565b6b915",
       "version_major": 2,
       "version_minor": 0
      },
      "text/plain": [
       "MetricVisualizer(layout=Layout(align_self='stretch', height='500px'))"
      ]
     },
     "metadata": {},
     "output_type": "display_data"
    },
    {
     "name": "stdout",
     "output_type": "stream",
     "text": [
      "CPU times: total: 3min 23s\n",
      "Wall time: 1min 56s\n"
     ]
    },
    {
     "data": {
      "text/plain": [
       "<catboost.core.CatBoostClassifier at 0x1b5b4d6f5e0>"
      ]
     },
     "execution_count": 11,
     "metadata": {},
     "output_type": "execute_result"
    }
   ],
   "source": [
    "%%time\n",
    "\n",
    "cat_classifier = CatBoostClassifier(iterations=300,\n",
    "                         learning_rate=0.001,\n",
    "                         depth=8,\n",
    "                         eval_metric='CrossEntropy',\n",
    "                         od_type='Iter',\n",
    "                         od_wait=20,\n",
    "                         silent=True\n",
    "                        )\n",
    "#Evaluate model\n",
    "scores = cross_validate(cat_classifier, Xtrain, y_train, scoring='accuracy', cv=5)\n",
    "#Get average evaluation metrics\n",
    "print('Mean accuracy: %.3f' % scores['test_score'].mean())\n",
    "\n",
    "cat_classifier.fit(Xtrain, y_train,eval_set=(Xtest, y_test),plot=True);"
   ]
  },
  {
   "cell_type": "markdown",
   "metadata": {},
   "source": [
    "3. evaluation"
   ]
  },
  {
   "cell_type": "code",
   "execution_count": 13,
   "metadata": {},
   "outputs": [
    {
     "name": "stdout",
     "output_type": "stream",
     "text": [
      "Test score: 0.65\n",
      "\n",
      "Classification report for Classifier: \n",
      "\n",
      "<catboost.core.CatBoostClassifier object at 0x000001B5B4D6F5E0>: \n",
      "\n",
      "               precision    recall  f1-score   support\n",
      "\n",
      "           0       0.61      0.81      0.70       242\n",
      "           4       0.72      0.48      0.57       238\n",
      "\n",
      "    accuracy                           0.65       480\n",
      "   macro avg       0.67      0.65      0.64       480\n",
      "weighted avg       0.66      0.65      0.64       480\n",
      "\n"
     ]
    }
   ],
   "source": [
    "#prediction\n",
    "predictions = cat_classifier.predict(Xtest)\n",
    "\n",
    "print('Test score: %.2f\\n' % (accuracy_score(y_test, predictions)))\n",
    "# Classification report for Classifier\n",
    "print(\"Classification report for Classifier: \\n\\n%s: \\n\\n %s\" % (cat_classifier,\n",
    "                                                                 classification_report(y_test,\n",
    "                                                                                       predictions)))"
   ]
  },
  {
   "cell_type": "code",
   "execution_count": 14,
   "metadata": {},
   "outputs": [
    {
     "data": {
      "text/plain": [
       "<AxesSubplot:>"
      ]
     },
     "execution_count": 14,
     "metadata": {},
     "output_type": "execute_result"
    },
    {
     "data": {
      "image/png": "[encoded data removed]",
      "text/plain": [
       "<Figure size 432x288 with 2 Axes>"
      ]
     },
     "metadata": {
      "needs_background": "light"
     },
     "output_type": "display_data"
    }
   ],
   "source": [
    "#generate a confusion matrix\n",
    "conf_mat = confusion_matrix(y_test, predictions)\n",
    "df_cm = pd.DataFrame(conf_mat, index = class_names, columns = class_names)\n",
    "\n",
    "#plotting\n",
    "plt.figure(figsize = (6,4))\n",
    "sns.heatmap(df_cm, annot=True, cmap=\"Blues\",fmt=\".0f\")\n"
   ]
  },
  {
   "cell_type": "markdown",
   "metadata": {},
   "source": [
    "## Using Nltk nativebayes classification"
   ]
  },
  {
   "cell_type": "markdown",
   "metadata": {},
   "source": [
    "1. build the features from training set"
   ]
  },
  {
   "cell_type": "code",
   "execution_count": 15,
   "metadata": {},
   "outputs": [],
   "source": [
    "def build_dataset(X,y):\n",
    "    #build the dataset\n",
    "    words = [words.split(\" \") for words in X]\n",
    "    dataset = list(zip(words, y))\n",
    "    \n",
    "    return dataset\n",
    "\n",
    "trainset = build_dataset(X_train, y_train)\n",
    "testset = build_dataset(X_test, y_test)"
   ]
  },
  {
   "cell_type": "code",
   "execution_count": 16,
   "metadata": {},
   "outputs": [],
   "source": [
    "# Define the feature extractor\n",
    "all_words = FreqDist(sum([w.split(\" \") for w in X_train],[]))\n",
    "word_features = list(all_words)[:2000]\n",
    "    \n",
    "def document_features(words):\n",
    "    features = {}\n",
    "    for word in word_features:\n",
    "        features['contains({})'.format(word)] = (word in set(words))\n",
    "\n",
    "    return features"
   ]
  },
  {
   "cell_type": "code",
   "execution_count": 17,
   "metadata": {},
   "outputs": [],
   "source": [
    "train_set = [(document_features(d), y) for (d,y) in trainset]\n",
    "test_set = [(document_features(d), y) for (d,y) in testset]"
   ]
  },
  {
   "cell_type": "markdown",
   "metadata": {},
   "source": [
    "2. training the classifier"
   ]
  },
  {
   "cell_type": "code",
   "execution_count": 18,
   "metadata": {},
   "outputs": [],
   "source": [
    "# Train Naive Bayes classifier\n",
    "#training\n",
    "classifier = NaiveBayesClassifier.train(train_set)"
   ]
  },
  {
   "cell_type": "markdown",
   "metadata": {},
   "source": [
    "3. evaluation"
   ]
  },
  {
   "cell_type": "code",
   "execution_count": 19,
   "metadata": {},
   "outputs": [
    {
     "name": "stdout",
     "output_type": "stream",
     "text": [
      "accuracy score on test set: 0.68125\n"
     ]
    }
   ],
   "source": [
    "# Test the classifier\n",
    "print(\"accuracy score on test set:\", accuracy(classifier, test_set))"
   ]
  },
  {
   "cell_type": "code",
   "execution_count": 20,
   "metadata": {},
   "outputs": [
    {
     "name": "stdout",
     "output_type": "stream",
     "text": [
      "Most Informative Features\n",
      "          contains(didn) = True                0 : 4      =      6.8 : 1.0\n",
      "          contains(wish) = True                0 : 4      =      6.0 : 1.0\n",
      "         contains(those) = True                4 : 0      =      5.9 : 1.0\n",
      "          contains(suck) = True                0 : 4      =      5.5 : 1.0\n",
      "          contains(miss) = True                0 : 4      =      5.4 : 1.0\n"
     ]
    }
   ],
   "source": [
    "# Show the most important features as interpreted by Naive Bayes\n",
    "classifier.show_most_informative_features(5)"
   ]
  },
  {
   "cell_type": "code",
   "execution_count": 21,
   "metadata": {},
   "outputs": [
    {
     "data": {
      "text/plain": [
       "<AxesSubplot:>"
      ]
     },
     "execution_count": 21,
     "metadata": {},
     "output_type": "execute_result"
    },
    {
     "data": {
      "image/png": "[encoded data removed]",
      "text/plain": [
       "<Figure size 432x288 with 2 Axes>"
      ]
     },
     "metadata": {
      "needs_background": "light"
     },
     "output_type": "display_data"
    }
   ],
   "source": [
    "#prediction\n",
    "predictions=[]\n",
    "for (features,y) in test_set:\n",
    "    pred = classifier.classify(features)\n",
    "    predictions.append(pred)\n",
    "\n",
    "#generate a confusion matrix\n",
    "conf_mat = confusion_matrix(y_test, predictions)\n",
    "df_cm = pd.DataFrame(conf_mat, index = class_names, columns = class_names)\n",
    "\n",
    "#plotting\n",
    "plt.figure(figsize = (6,4))\n",
    "sns.heatmap(df_cm, annot=True, cmap=\"Blues\",fmt=\".0f\")"
   ]
  },
  {
   "cell_type": "code",
   "execution_count": null,
   "metadata": {},
   "outputs": [],
   "source": []
  }
 ],
 "metadata": {
  "interpreter": {
   "hash": "6f7c4d44365b28014734406e4d617c1e1f76ea196def854c7b951a230f6e24f1"
  },
  "kernelspec": {
   "display_name": "Python 3 (ipykernel)",
   "language": "python",
   "name": "python3"
  },
  "language_info": {
   "codemirror_mode": {
    "name": "ipython",
    "version": 3
   },
   "file_extension": ".py",
   "mimetype": "text/x-python",
   "name": "python",
   "nbconvert_exporter": "python",
   "pygments_lexer": "ipython3",
   "version": "3.9.7"
  }
 },
 "nbformat": 4,
 "nbformat_minor": 2
}
